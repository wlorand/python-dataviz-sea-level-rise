{
 "cells": [
  {
   "cell_type": "markdown",
   "metadata": {},
   "source": [
    "## SLR-3: CA County Shoreline Miles as Crude Proxy for Risk\n",
    "\n"
   ]
  },
  {
   "cell_type": "code",
   "execution_count": 6,
   "metadata": {},
   "outputs": [
    {
     "name": "stdout",
     "output_type": "stream",
     "text": [
      "        county_name shoreline_miles\n",
      "0         Del Norte              49\n",
      "1          Humboldt             124\n",
      "2         Mendocino             159\n",
      "3            Sonoma              70\n",
      "4             Marin             116\n",
      "5     San Francisco               6\n",
      "6         San Mateo              59\n",
      "7        Santa Cruz              45\n",
      "8          Monterey             136\n",
      "9   San Luis Obispo             107\n",
      "10    Santa Barbara             117\n",
      "11          Ventura              43\n",
      "12      Los Angeles             101\n",
      "13           Orange              43\n",
      "14        San Diego             177\n"
     ]
    },
    {
     "data": {
      "text/plain": [
       "<matplotlib.axes._subplots.AxesSubplot at 0x1158a52d0>"
      ]
     },
     "execution_count": 6,
     "metadata": {},
     "output_type": "execute_result"
    },
    {
     "data": {
      "image/png": "[encoded data removed]",
      "text/plain": [
       "<Figure size 432x288 with 1 Axes>"
      ]
     },
     "metadata": {
      "needs_background": "light"
     },
     "output_type": "display_data"
    }
   ],
   "source": [
    "''' SLR-3:  CA County Shoreline Miles as Crude Proxy for Risk\n",
    "Use pandas to create a dataviz that shows shoreline miles by CA County (bar chart)'''\n",
    "\n",
    "import numpy as np\n",
    "import pandas as pd\n",
    "import matplotlib\n",
    "\n",
    "from pandas.io.json import json_normalize\n",
    "\n",
    "# import custom created module\n",
    "import api_data_utils \n",
    "\n",
    "# enable matplotlib inline \n",
    "%matplotlib inline\n",
    "\n",
    "# create a df from parsed json \n",
    "df = api_data_utils.fetch_and_parse_json()\n",
    "\n",
    "\n",
    "# drop columns  -- TODO: try to use the df.columns to do this more programmatically\n",
    "df_filtered = df.drop(['id', 'latitude', 'longitude', 'assessment', 'case_study', 'risks', 'economy', 'LCPs', 'photos'], axis=1)    \n",
    "\n",
    "# add shoreline_miles to the top-level of the dataframe\n",
    "df_filtered['shoreline_miles'] = None\n",
    "\n",
    "# iterate over a df  -- with iterrows\n",
    "for index, row in df_filtered.iterrows(): \n",
    "    # assign the shoreline miles field to your dataframe\n",
    "    resources_dict = dict(row['resources'][0])\n",
    "    df_filtered['shoreline_miles'][index] = int(resources_dict['shoreline_miles'])\n",
    "    \n",
    "# now drop the resources since you've gotten shoreline_miles data out of it\n",
    "df_filtered = df_filtered.drop(['resources'],axis=1)\n",
    "    \n",
    "# print the dataframe (will render a table)\n",
    "print(df_filtered)\n",
    "    \n",
    "# finally, plot the results inline\n",
    "df_filtered.sort_values('shoreline_miles', ascending=False).plot.bar(title='Shoreline Miles of CA Counties')\n",
    "\n",
    "# TODO: improve the labels - use county name for x-axis \n",
    "# seems easier with pyplot than directly using pandas\n"
   ]
  },
  {
   "cell_type": "code",
   "execution_count": null,
   "metadata": {},
   "outputs": [],
   "source": []
  }
 ],
 "metadata": {
  "kernelspec": {
   "display_name": "Python 3",
   "language": "python",
   "name": "python3"
  },
  "language_info": {
   "codemirror_mode": {
    "name": "ipython",
    "version": 3
   },
   "file_extension": ".py",
   "mimetype": "text/x-python",
   "name": "python",
   "nbconvert_exporter": "python",
   "pygments_lexer": "ipython3",
   "version": "3.7.7"
  }
 },
 "nbformat": 4,
 "nbformat_minor": 2
}
