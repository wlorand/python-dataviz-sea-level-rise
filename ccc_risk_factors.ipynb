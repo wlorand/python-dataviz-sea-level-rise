{
 "cells": [
  {
   "cell_type": "markdown",
   "metadata": {},
   "source": [
    "## SLR-1: CA Coastal Commission (CCC) Risk Factors\n"
   ]
  },
  {
   "cell_type": "code",
   "execution_count": 16,
   "metadata": {},
   "outputs": [
    {
     "name": "stdout",
     "output_type": "stream",
     "text": [
      "        county_name risk_total\n",
      "0         Del Norte          8\n",
      "1          Humboldt          9\n",
      "2         Mendocino          5\n",
      "3            Sonoma          7\n",
      "4             Marin          5\n",
      "5     San Francisco          7\n",
      "6         San Mateo          5\n",
      "7        Santa Cruz          7\n",
      "8          Monterey          8\n",
      "9   San Luis Obispo          9\n",
      "10    Santa Barbara          9\n",
      "11          Ventura         10\n",
      "12      Los Angeles          9\n",
      "13           Orange          8\n",
      "14        San Diego          9\n"
     ]
    },
    {
     "data": {
      "text/plain": [
       "<matplotlib.axes._subplots.AxesSubplot at 0x115524110>"
      ]
     },
     "execution_count": 16,
     "metadata": {},
     "output_type": "execute_result"
    },
    {
     "data": {
      "image/png": "[encoded data removed]",
      "text/plain": [
       "<Figure size 432x288 with 1 Axes>"
      ]
     },
     "metadata": {
      "needs_background": "light"
     },
     "output_type": "display_data"
    }
   ],
   "source": [
    "''' SLR-1:  CA Coastal Commission (CCC) Risk Factors\n",
    "Use pandas to create a dataviz for All Counties and risks (bar chart)'''\n",
    "\n",
    "# numpy as dependency of pandas\n",
    "import numpy as np \n",
    "import pandas as pd\n",
    "\n",
    "import matplotlib \n",
    "import matplotlib.pyplot as plt\n",
    "\n",
    "# import custom created module\n",
    "import api_data_utils \n",
    "\n",
    "# enable matplotlib inline \n",
    "%matplotlib inline \n",
    "\n",
    "# create a df from parsed json \n",
    "df = api_data_utils.fetch_and_parse_json()\n",
    "\n",
    "# create a filtered dataframe - drop most cols + adding risk_total col\n",
    "df_filtered = df.drop(['id', 'latitude', 'longitude', 'assessment', 'case_study', 'resources', 'economy', 'LCPs', 'photos'], axis=1)\n",
    "df_filtered['risk_total'] = None\n",
    "\n",
    "# iterate over a df  -- with iterrows\n",
    "for index, row in df_filtered.iterrows(): \n",
    "    # sum up the risks and assign it to the risk_total col\n",
    "    risk_dict = dict(row['risks'][0])\n",
    "    df_filtered['risk_total'][index] = sum(risk_dict.values())\n",
    "    \n",
    "# now remove the risks column\n",
    "df_filtered = df_filtered.drop(['risks'],axis=1)\n",
    "\n",
    "# print the dataframe (will render a table)\n",
    "print(df_filtered)\n",
    "\n",
    "# finally, plot the results inline\n",
    "df_filtered.sort_values('risk_total', ascending=False).plot(kind='bar', title='CA County Sea Level Risk Factors')\n",
    "\n",
    "\n",
    "# TODO: improve the labels - use county name for x-axis \n",
    "# seems easier with pyplot than directly using pandas\n",
    "\n"
   ]
  },
  {
   "cell_type": "code",
   "execution_count": null,
   "metadata": {},
   "outputs": [],
   "source": []
  }
 ],
 "metadata": {
  "kernelspec": {
   "display_name": "Python 3 (ipykernel)",
   "language": "python",
   "name": "python3"
  },
  "language_info": {
   "codemirror_mode": {
    "name": "ipython",
    "version": 3
   },
   "file_extension": ".py",
   "mimetype": "text/x-python",
   "name": "python",
   "nbconvert_exporter": "python",
   "pygments_lexer": "ipython3",
   "version": "3.8.6"
  }
 },
 "nbformat": 4,
 "nbformat_minor": 2
}
