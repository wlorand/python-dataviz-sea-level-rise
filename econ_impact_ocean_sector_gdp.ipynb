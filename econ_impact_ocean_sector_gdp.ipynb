{
 "cells": [
  {
   "cell_type": "markdown",
   "metadata": {},
   "source": [
    "## SLR-2: Econ Impact  - Ocean Sector GDP by CA County\n"
   ]
  },
  {
   "cell_type": "code",
   "execution_count": 37,
   "metadata": {},
   "outputs": [
    {
     "name": "stdout",
     "output_type": "stream",
     "text": [
      "<class 'str'>\n",
      "<re.Match object; span=(435, 443), match='%ofState'>\n",
      "There is a match for \"%ofState\"\n"
     ]
    }
   ],
   "source": [
    "''' SLR-2: Create Pie Chart to rep Ocean Sector GDP by CA County\n",
    "Step1: get datapoint by extracting text from pdf file\n",
    "TODO: Step2: create a histogram-type dictionary with county, % of Ocean Sector GDP \n",
    "TODO: Step3: use pandas and matplotlib to create an inline pie chart'''\n",
    "\n",
    "import re\n",
    "\n",
    "import PyPDF2\n",
    "\n",
    "# File I/O for the PDF File\n",
    "# TODO: make a function that does this operation - then loop over all PDFs and create a dictionary\n",
    "with open('./pdf/13_LosAngeles.pdf', 'rb') as pdfFileObj: \n",
    "\n",
    "    pdfReader = PyPDF2.PdfFileReader(pdfFileObj)\n",
    "    pdfPageOne = pdfReader.getPage(0)\n",
    "    pageOneText = pdfPageOne.extractText()\n",
    "\n",
    "# print(pageOneText)\n",
    "print(type(pageOneText)) # ensure <class 'str'> to use regex\n",
    "\n",
    "# Use regex to grab data from the raw pdf text \n",
    "# Using LosAngeles PDF to try and get the '43' which reps the county ocean sector GDP\n",
    "# This should be the digits just before the string  '%ofState' in the PDF \n",
    "#    -- verified by manual browser search (Cntl-F) for all of the pdf files   \n",
    "\n",
    "pattern = '%ofState'\n",
    "rec_pattern = re.compile(pattern) # compile your regex for more memory-efficient searching\n",
    "print(re.search(rec_pattern, pageOneText))\n",
    "if re.search(rec_pattern, pageOneText): # Truthiness\n",
    "    print(f'There is a match for \"{pattern}\"')\n",
    "else:\n",
    "    print(f'Found no match for \"{pattern}\"')\n",
    "\n",
    "# TODO: Grab the digits just before your match which will be the 43, then populate a dictionary with the data \n",
    "\n",
    "\n"
   ]
  },
  {
   "cell_type": "markdown",
   "metadata": {},
   "source": [
    "### Manual creation of Dict of Counties and % of State Ocean Sector GDP for Pie Chart\n",
    "#### Note: this is the desired data structure from data point extraction from the pdf files "
   ]
  },
  {
   "cell_type": "code",
   "execution_count": 42,
   "metadata": {},
   "outputs": [
    {
     "name": "stdout",
     "output_type": "stream",
     "text": [
      "<class 'dict'>\n",
      "100.7%\n",
      "100%\n"
     ]
    }
   ],
   "source": [
    "ocean_gdp_by_county = {\n",
    "    'DelNorte': 0.1,\n",
    "    'Humboldt': 0.4,\n",
    "    'Mendocino': 0.2,\n",
    "    'Sonoma': 1,\n",
    "    'Marin': 1,\n",
    "    'SanFrancisco': 11,\n",
    "    'SanMateo': 4,\n",
    "    'SantaCruz': 1,\n",
    "    'Monterey': 3,\n",
    "    'SanLuisObispo': 1,\n",
    "    'SantaBarbara': 4,\n",
    "    'Ventura': 4,\n",
    "    'LosAngeles': 43,\n",
    "    'Orange': 10,\n",
    "    'SanDiego': 17,\n",
    "}\n",
    "\n",
    "print(type(ocean_gdp_by_county))\n",
    "\n",
    "# Sum the Values\n",
    "total_percent = sum(ocean_gdp_by_county.values())\n",
    "print(f'{total_percent}%') # should total 100% -- IS 100.7%\n",
    "\n",
    "# Do dict comprehension to round the float values to int and get to 100%\n",
    "rounded_ocean_gdp_by_county = {k: round(v) for (k,v) in ocean_gdp_by_county.items()}\n",
    "\n",
    "new_total_percent = sum(rounded_ocean_gdp_by_county.values())\n",
    "print(f'{new_total_percent}%') # new total: 100%\n",
    "\n",
    "# TODO: take this data into pandas - create data frame and plot a pie chart of the 100%\n"
   ]
  }
 ],
 "metadata": {
  "kernelspec": {
   "display_name": "Python 3",
   "language": "python",
   "name": "python3"
  },
  "language_info": {
   "codemirror_mode": {
    "name": "ipython",
    "version": 3
   },
   "file_extension": ".py",
   "mimetype": "text/x-python",
   "name": "python",
   "nbconvert_exporter": "python",
   "pygments_lexer": "ipython3",
   "version": "3.7.4"
  }
 },
 "nbformat": 4,
 "nbformat_minor": 2
}
